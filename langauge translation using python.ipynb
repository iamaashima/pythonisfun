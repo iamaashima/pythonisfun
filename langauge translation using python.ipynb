{
 "cells": [
  {
   "cell_type": "code",
   "execution_count": 1,
   "id": "8c6ca613-a5c2-485e-97da-5720141314b2",
   "metadata": {},
   "outputs": [],
   "source": [
    "import pandas as pd\n",
    "from googletrans import Translator\n"
   ]
  },
  {
   "cell_type": "code",
   "execution_count": 2,
   "id": "93225b78-606d-4412-ab37-9a93476b6f76",
   "metadata": {},
   "outputs": [],
   "source": [
    "df=pd.read_csv(\"https://raw.githubusercontent.com/amankharwal/Website-data/master/hindi.csv\")"
   ]
  },
  {
   "cell_type": "code",
   "execution_count": 3,
   "id": "c12b9f67-b824-4a80-ae91-e2d84623e8b7",
   "metadata": {},
   "outputs": [
    {
     "name": "stdout",
     "output_type": "stream",
     "text": [
      "  Vegetable Names\n",
      "0           गाजर \n",
      "1     शिमला मिर्च\n",
      "2         भिन्डी \n",
      "3          मक्का \n",
      "4       लाल मिर्च\n",
      "5           खीरा \n",
      "6       कढ़ी पत्ता\n",
      "7           बैगन \n",
      "8          लहसुन \n",
      "9           अदरक \n"
     ]
    }
   ],
   "source": [
    "print(df)"
   ]
  },
  {
   "cell_type": "code",
   "execution_count": 14,
   "id": "bd8ad96c-4a55-4e1b-96e6-705b4d0d0942",
   "metadata": {},
   "outputs": [
    {
     "name": "stdout",
     "output_type": "stream",
     "text": [
      "गाजर : جزرة\n",
      "शिमला मिर्च: الفليفلة\n",
      "भिन्डी : بامية\n",
      "मक्का : الذرة\n",
      "लाल मिर्च: الفلفل الأحمر\n",
      "खीरा : خيار\n",
      "कढ़ी पत्ता: أوراق الكاري\n",
      "बैगन : برنجال\n",
      "लहसुन : ثوم\n",
      "अदरक : زنجبيل\n"
     ]
    }
   ],
   "source": [
    "from deep_translator import GoogleTranslator\n",
    "import pandas as pd\n",
    "translator = GoogleTranslator(source='auto', target='ar')\n",
    "translations = {}\n",
    "\n",
    "for column in df.columns:\n",
    "    unique = df[column].unique()\n",
    "    for element in unique:\n",
    "        translations[element] = translator.translate(element)\n",
    "\n",
    "for key, value in translations.items():\n",
    "    print(f'{key}: {value}')\n"
   ]
  },
  {
   "cell_type": "code",
   "execution_count": null,
   "id": "b8753552-76b5-4716-a30e-05d13d2a26d2",
   "metadata": {},
   "outputs": [],
   "source": []
  }
 ],
 "metadata": {
  "kernelspec": {
   "display_name": "Python 3 (ipykernel)",
   "language": "python",
   "name": "python3"
  },
  "language_info": {
   "codemirror_mode": {
    "name": "ipython",
    "version": 3
   },
   "file_extension": ".py",
   "mimetype": "text/x-python",
   "name": "python",
   "nbconvert_exporter": "python",
   "pygments_lexer": "ipython3",
   "version": "3.11.7"
  }
 },
 "nbformat": 4,
 "nbformat_minor": 5
}
